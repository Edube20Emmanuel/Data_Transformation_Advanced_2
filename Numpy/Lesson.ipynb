{
 "cells": [
  {
   "cell_type": "markdown",
   "metadata": {},
   "source": [
    "NUMPY ARRAYS"
   ]
  },
  {
   "cell_type": "code",
   "execution_count": 2,
   "metadata": {},
   "outputs": [],
   "source": [
    "import numpy as np"
   ]
  },
  {
   "cell_type": "code",
   "execution_count": 5,
   "metadata": {},
   "outputs": [
    {
     "name": "stdout",
     "output_type": "stream",
     "text": [
      "The fist array is [1 2 3 4 5]\n",
      "The second array is [ 2  7  9 10 11 12]\n"
     ]
    }
   ],
   "source": [
    "### Creatin a one dimensional array in numpy using a regular python list or tuple\n",
    "# Python list\n",
    "array1_1D = np.array([1,2,3,4,5])\n",
    "## tuple\n",
    "array2_1D = np.array((2,7,9,10,11,12))\n",
    "print(f'The fist array is {array1_1D}')\n",
    "print(f'The second array is {array2_1D}')"
   ]
  },
  {
   "cell_type": "code",
   "execution_count": 7,
   "metadata": {},
   "outputs": [
    {
     "name": "stdout",
     "output_type": "stream",
     "text": [
      "This is a complex 1D array [1.+0.j 2.+0.j 3.+0.j 4.+0.j 5.+0.j]\n"
     ]
    }
   ],
   "source": [
    "## Adding the datatype of the array using the dtype option\n",
    "# 1D array with complex dtype\n",
    "array1_1D = np.array([1,2,3,4,5],dtype='complex')\n",
    "print(f'This is a complex 1D array {array1_1D}')"
   ]
  },
  {
   "cell_type": "code",
   "execution_count": 8,
   "metadata": {},
   "outputs": [
    {
     "name": "stdout",
     "output_type": "stream",
     "text": [
      "This is a float 1D array [ 2.  7.  9. 10. 11. 12.]\n"
     ]
    }
   ],
   "source": [
    "## A float dtype\n",
    "array2_1D = np.array((2,7,9,10,11,12),dtype='float')\n",
    "print(f'This is a float 1D array {array2_1D}')"
   ]
  },
  {
   "cell_type": "code",
   "execution_count": 9,
   "metadata": {},
   "outputs": [
    {
     "name": "stdout",
     "output_type": "stream",
     "text": [
      "Output: [[1 3 5]\n",
      " [2 4 6]]\n"
     ]
    }
   ],
   "source": [
    "## Two dimensional array\n",
    "num_arry_2d = np.array([(1,3,5),(2,4,6)])\n",
    "print(f'Output: {num_arry_2d}')"
   ]
  },
  {
   "cell_type": "code",
   "execution_count": 10,
   "metadata": {},
   "outputs": [
    {
     "name": "stdout",
     "output_type": "stream",
     "text": [
      "Output:\n"
     ]
    },
    {
     "data": {
      "text/plain": [
       "array([[0., 0., 0.],\n",
       "       [0., 0., 0.]])"
      ]
     },
     "execution_count": 10,
     "metadata": {},
     "output_type": "execute_result"
    }
   ],
   "source": [
    "## Special arrays\n",
    "# Array with zeros\n",
    "array_zeros =  np.zeros((2,3))\n",
    "print('Output:')\n",
    "array_zeros"
   ]
  },
  {
   "cell_type": "code",
   "execution_count": 11,
   "metadata": {},
   "outputs": [
    {
     "name": "stdout",
     "output_type": "stream",
     "text": [
      "Output:\n"
     ]
    },
    {
     "data": {
      "text/plain": [
       "array([[1., 1., 1., 1.],\n",
       "       [1., 1., 1., 1.]])"
      ]
     },
     "execution_count": 11,
     "metadata": {},
     "output_type": "execute_result"
    }
   ],
   "source": [
    "# Array with ones\n",
    "array_ones = np.ones((2,4))\n",
    "print('Output:')\n",
    "array_ones"
   ]
  },
  {
   "cell_type": "code",
   "execution_count": 13,
   "metadata": {},
   "outputs": [
    {
     "name": "stdout",
     "output_type": "stream",
     "text": [
      "Output:\n"
     ]
    },
    {
     "data": {
      "text/plain": [
       "array([[0.000e+000, 0.000e+000, 0.000e+000],\n",
       "       [0.000e+000, 0.000e+000, 8.636e-321],\n",
       "       [0.000e+000, 0.000e+000, 0.000e+000]])"
      ]
     },
     "execution_count": 13,
     "metadata": {},
     "output_type": "execute_result"
    }
   ],
   "source": [
    "## Empty array\n",
    "array_empty = np.empty((3,3))\n",
    "print('Output:')\n",
    "array_empty"
   ]
  },
  {
   "cell_type": "markdown",
   "metadata": {},
   "source": [
    "CREATING NUMPY ARRAY USING THE EXISTING tuple or  list"
   ]
  },
  {
   "cell_type": "code",
   "execution_count": 15,
   "metadata": {},
   "outputs": [
    {
     "name": "stdout",
     "output_type": "stream",
     "text": [
      "The one dimension array is [20 40 35 60]\n"
     ]
    }
   ],
   "source": [
    "## tuple\n",
    "t1 = (20,40,35,60)\n",
    "print(f'The one dimension array is {np.array(t1)}')"
   ]
  },
  {
   "cell_type": "code",
   "execution_count": 16,
   "metadata": {},
   "outputs": [
    {
     "name": "stdout",
     "output_type": "stream",
     "text": [
      "The multidimensional array is [[80 90 78 83 91]\n",
      " [ 1  2  3  4  5]]\n"
     ]
    }
   ],
   "source": [
    "# List\n",
    "lis1 = [[80,90,78,83,91],[1,2,3,4,5]]\n",
    "print(f'The multidimensional array is {np.array(lis1)}')"
   ]
  }
 ],
 "metadata": {
  "kernelspec": {
   "display_name": "Python 3",
   "language": "python",
   "name": "python3"
  },
  "language_info": {
   "codemirror_mode": {
    "name": "ipython",
    "version": 3
   },
   "file_extension": ".py",
   "mimetype": "text/x-python",
   "name": "python",
   "nbconvert_exporter": "python",
   "pygments_lexer": "ipython3",
   "version": "3.11.5"
  }
 },
 "nbformat": 4,
 "nbformat_minor": 2
}
